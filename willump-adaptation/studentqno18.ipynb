{
 "cells": [
  {
   "cell_type": "markdown",
   "metadata": {},
   "source": [
    "## Imports"
   ]
  },
  {
   "cell_type": "code",
   "execution_count": 1,
   "metadata": {},
   "outputs": [],
   "source": [
    "import json\n",
    "import os\n",
    "import os.path as osp\n",
    "import time\n",
    "\n",
    "import joblib\n",
    "import matplotlib.pyplot as plt\n",
    "import numpy as np\n",
    "import pandas as pd\n",
    "from apxinfer.core.model import XIPModel\n",
    "from sklearn.metrics import roc_auc_score, accuracy_score, precision_score, f1_score, recall_score\n",
    "from willump.evaluation.willump_executor import willump_execute\n"
   ]
  },
  {
   "cell_type": "markdown",
   "metadata": {},
   "source": [
    "## Task Specifics (Specific)"
   ]
  },
  {
   "cell_type": "code",
   "execution_count": 2,
   "metadata": {},
   "outputs": [],
   "source": [
    "from apxinfer.examples.student.trainer import StudentQNoTrainer\n",
    "\n",
    "working_dir = os.getcwd()\n",
    "task_name = \"studentqno18\"\n",
    "model_name = \"rf\"\n",
    "model_file = \"rf.pkl\"\n",
    "preparation_rescale = 1000\n",
    "assert working_dir == '/home/ckchang/Biathlon/willump-adaptation' # change to your own\n",
    "os.chdir('..') # depending on your directory structure\n",
    "working_dir = os.getcwd()"
   ]
  },
  {
   "cell_type": "markdown",
   "metadata": {},
   "source": [
    "## Model Training Parameters"
   ]
  },
  {
   "cell_type": "code",
   "execution_count": 3,
   "metadata": {},
   "outputs": [],
   "source": [
    "\n",
    "# model arguments\n",
    "seed = 0\n",
    "scaler_type = None\n",
    "multi_class = False\n"
   ]
  },
  {
   "cell_type": "markdown",
   "metadata": {},
   "source": [
    "## Loading Model, Data and Feature"
   ]
  },
  {
   "cell_type": "code",
   "execution_count": 4,
   "metadata": {},
   "outputs": [],
   "source": [
    "\n",
    "# read in the model\n",
    "original_model = joblib.load(osp.join(working_dir, task_name, \"model\", model_file))\n",
    "\n",
    "# read the dataset\n",
    "train_set = pd.read_csv(osp.join(working_dir, task_name, \"dataset\", \"train_set.csv\"))\n",
    "test_set = pd.read_csv(osp.join(working_dir, task_name, \"dataset\", \"test_set.csv\"))\n",
    "num_rows = len(test_set)\n",
    "\n",
    "\n",
    "cols = list(train_set.columns)\n",
    "fnames = [col for col in cols if col.startswith(\"f_\")]\n",
    "label_name = cols[-1]\n",
    "\n",
    "def read_feature_info():\n",
    "  # read in the feature info\n",
    "  evals_exact = json.load(open(osp.join(working_dir, task_name, \"evals_exact.json\"), \"r\"))\n",
    "  num_reqs = 1\n",
    "  group_costs = evals_exact[\"avg_qtime_query\"]\n",
    "  return (num_reqs, group_costs)\n",
    "\n",
    "num_reqs, group_costs = read_feature_info()\n",
    "num_groups = len(group_costs)\n",
    "num_reqs *= preparation_rescale"
   ]
  },
  {
   "cell_type": "markdown",
   "metadata": {},
   "source": [
    "## Willump Registration Functions (Specific)"
   ]
  },
  {
   "cell_type": "code",
   "execution_count": 5,
   "metadata": {},
   "outputs": [],
   "source": [
    "\n",
    "# training\n",
    "def tdfraud_train(y, X_list):\n",
    "  X = np.concatenate(X_list, axis=1)\n",
    "  # X = pd.concat(X_list, axis=1)\n",
    "  trainer = StudentQNoTrainer(\n",
    "    working_dir,\n",
    "    original_model.model_type,\n",
    "    model_name,\n",
    "    seed,\n",
    "    scaler_type,\n",
    "    multi_class,\n",
    "  )\n",
    "  model = trainer.build_model(X, y)\n",
    "  return model\n",
    "\n",
    "\n",
    "def tdfraud_predict(model, X_list):\n",
    "  X = np.concatenate(X_list, axis=1)\n",
    "  # X = pd.concat(X_list, axis=1)\n",
    "  if X.shape[0] == 0:\n",
    "    return np.zeros(0, dtype=np.int64)\n",
    "  else:\n",
    "    return model.predict(X)\n",
    "\n",
    "\n",
    "def tdfraud_confidence(model: XIPModel, X_list):\n",
    "  X = np.concatenate(X_list, axis=1)\n",
    "  # X = pd.concat(X_list, axis=1)\n",
    "  return model.predict_proba(X)[:, 1]\n",
    "\n",
    "\n",
    "def tdfraud_score(true_y, pred_y):\n",
    "  return roc_auc_score(true_y, pred_y)\n",
    "\n"
   ]
  },
  {
   "cell_type": "markdown",
   "metadata": {},
   "source": [
    "### Generated Transformation Functions"
   ]
  },
  {
   "cell_type": "code",
   "execution_count": 6,
   "metadata": {},
   "outputs": [],
   "source": [
    "\n",
    "def pseudo_transform_function0(input_x):\n",
    "  time.sleep(group_costs[0] * input_x.shape[0] / num_reqs)\n",
    "  return input_x[[fname for fname in fnames if fname.endswith(\"q-0\")]].to_numpy()\n",
    "\n",
    "def pseudo_transform_function1(input_x):\n",
    "  time.sleep(group_costs[1] * input_x.shape[0] / num_reqs)\n",
    "  return input_x[[fname for fname in fnames if fname.endswith(\"q-1\")]].to_numpy()\n",
    "\n",
    "def pseudo_transform_function2(input_x):\n",
    "  time.sleep(group_costs[2] * input_x.shape[0] / num_reqs)\n",
    "  return input_x[[fname for fname in fnames if fname.endswith(\"q-2\")]].to_numpy()\n",
    "\n",
    "def pseudo_transform_function3(input_x):\n",
    "  time.sleep(group_costs[3] * input_x.shape[0] / num_reqs)\n",
    "  return input_x[[fname for fname in fnames if fname.endswith(\"q-3\")]].to_numpy()\n",
    "\n",
    "def pseudo_transform_function4(input_x):\n",
    "  time.sleep(group_costs[4] * input_x.shape[0] / num_reqs)\n",
    "  return input_x[[fname for fname in fnames if fname.endswith(\"q-4\")]].to_numpy()\n",
    "\n",
    "def pseudo_transform_function5(input_x):\n",
    "  time.sleep(group_costs[5] * input_x.shape[0] / num_reqs)\n",
    "  return input_x[[fname for fname in fnames if fname.endswith(\"q-5\")]].to_numpy()\n",
    "\n",
    "def pseudo_transform_function6(input_x):\n",
    "  time.sleep(group_costs[6] * input_x.shape[0] / num_reqs)\n",
    "  return input_x[[fname for fname in fnames if fname.endswith(\"q-6\")]].to_numpy()\n",
    "\n",
    "def pseudo_transform_function7(input_x):\n",
    "  time.sleep(group_costs[7] * input_x.shape[0] / num_reqs)\n",
    "  return input_x[[fname for fname in fnames if fname.endswith(\"q-7\")]].to_numpy()\n",
    "\n",
    "def pseudo_transform_function8(input_x):\n",
    "  time.sleep(group_costs[8] * input_x.shape[0] / num_reqs)\n",
    "  return input_x[[fname for fname in fnames if fname.endswith(\"q-8\")]].to_numpy()\n",
    "\n",
    "def pseudo_transform_function9(input_x):\n",
    "  time.sleep(group_costs[9] * input_x.shape[0] / num_reqs)\n",
    "  return input_x[[fname for fname in fnames if fname.endswith(\"q-9\")]].to_numpy()\n",
    "\n",
    "def pseudo_transform_function10(input_x):\n",
    "  time.sleep(group_costs[10] * input_x.shape[0] / num_reqs)\n",
    "  return input_x[[fname for fname in fnames if fname.endswith(\"q-10\")]].to_numpy()\n",
    "\n",
    "def pseudo_transform_function11(input_x):\n",
    "  time.sleep(group_costs[11] * input_x.shape[0] / num_reqs)\n",
    "  return input_x[[fname for fname in fnames if fname.endswith(\"q-11\")]].to_numpy()\n",
    "\n",
    "def pseudo_transform_function12(input_x):\n",
    "  time.sleep(group_costs[12] * input_x.shape[0] / num_reqs)\n",
    "  return input_x[[fname for fname in fnames if fname.endswith(\"q-12\")]].to_numpy()\n",
    "\n",
    "\n",
    "num_feature_groups = 13\n",
    "feature_importances = original_model.model.feature_importances_\n",
    "groups = [[j for j in range(len(fnames)) if fnames[j].endswith(f\"q-{i}\")] for i in range(num_feature_groups)]\n",
    "feature_group_importances = {f'feature{i}': feature_importances[group].sum() for i, group in enumerate(groups)}\n",
    "\n",
    "cascades_dict = {'feature_importances': feature_group_importances}\n",
    "@willump_execute(\n",
    "  train_function=tdfraud_train,\n",
    "  predict_function=tdfraud_predict,\n",
    "  confidence_function=tdfraud_confidence,\n",
    "  score_function=tdfraud_score,\n",
    "  train_cascades_params=cascades_dict,\n",
    ")\n",
    "def tdfraud_train_pipeline(input_x, input_y):\n",
    "  feature0 = pseudo_transform_function0(input_x)\n",
    "  feature1 = pseudo_transform_function1(input_x)\n",
    "  feature2 = pseudo_transform_function2(input_x)\n",
    "  feature3 = pseudo_transform_function3(input_x)\n",
    "  feature4 = pseudo_transform_function4(input_x)\n",
    "  feature5 = pseudo_transform_function5(input_x)\n",
    "  feature6 = pseudo_transform_function6(input_x)\n",
    "  feature7 = pseudo_transform_function7(input_x)\n",
    "  feature8 = pseudo_transform_function8(input_x)\n",
    "  feature9 = pseudo_transform_function9(input_x)\n",
    "  feature10 = pseudo_transform_function10(input_x)\n",
    "  feature11 = pseudo_transform_function11(input_x)\n",
    "  feature12 = pseudo_transform_function12(input_x)\n",
    "  return tdfraud_train(input_y, [feature0, feature1, feature2, feature3, feature4, feature5, feature6, feature7, feature8, feature9, feature10, feature11, feature12])\n",
    "\n"
   ]
  },
  {
   "cell_type": "markdown",
   "metadata": {},
   "source": [
    "## Training with Willump"
   ]
  },
  {
   "cell_type": "code",
   "execution_count": 7,
   "metadata": {},
   "outputs": [
    {
     "name": "stderr",
     "output_type": "stream",
     "text": [
      "INFO:XIPTrainer:Building pipeline for classifier rf\n",
      "INFO:XIPTrainer:Building pipeline for classifier rf\n",
      "INFO:XIPTrainer:Building pipeline for classifier rf\n"
     ]
    },
    {
     "name": "stdout",
     "output_type": "stream",
     "text": [
      "Feature: feature1                  Cost: 10.662 Importance:  0.125\n",
      "Feature: feature0                  Cost: 10.820 Importance:  0.122\n",
      "Feature: feature3                  Cost: 11.150 Importance:  0.115\n",
      "Feature: feature6                  Cost: 11.258 Importance:  0.112\n",
      "Feature: feature4                  Cost: 11.253 Importance:  0.112\n",
      "Feature: feature5                  Cost: 11.272 Importance:  0.108\n",
      "Feature: feature7                  Cost: 10.428 Importance:  0.107\n",
      "Feature: feature2                  Cost: 10.071 Importance:  0.089\n",
      "Feature: feature10                 Cost: 12.355 Importance:  0.040\n",
      "Feature: feature12                 Cost: 12.640 Importance:  0.036\n",
      "Feature: feature11                 Cost: 12.168 Importance:  0.019\n",
      "Feature: feature9                  Cost: 11.576 Importance:  0.012\n",
      "Feature: feature8                  Cost: 11.513 Importance:  0.005\n"
     ]
    },
    {
     "name": "stderr",
     "output_type": "stream",
     "text": [
      "INFO:XIPTrainer:Building pipeline for classifier rf\n"
     ]
    },
    {
     "name": "stdout",
     "output_type": "stream",
     "text": [
      "Cutoff: 0.100000 Threshold: 0.600000 Expected Cost: 11.617311\n"
     ]
    },
    {
     "name": "stderr",
     "output_type": "stream",
     "text": [
      "INFO:XIPTrainer:Building pipeline for classifier rf\n"
     ]
    },
    {
     "name": "stdout",
     "output_type": "stream",
     "text": [
      "Cutoff: 0.200000 Threshold: 0.600000 Expected Cost: 21.801352\n"
     ]
    },
    {
     "name": "stderr",
     "output_type": "stream",
     "text": [
      "INFO:XIPTrainer:Building pipeline for classifier rf\n"
     ]
    },
    {
     "name": "stdout",
     "output_type": "stream",
     "text": [
      "Cutoff: 0.300000 Threshold: 0.600000 Expected Cost: 43.933613\n"
     ]
    },
    {
     "name": "stderr",
     "output_type": "stream",
     "text": [
      "INFO:XIPTrainer:Building pipeline for classifier rf\n"
     ]
    },
    {
     "name": "stdout",
     "output_type": "stream",
     "text": [
      "Cutoff: 0.400000 Threshold: 0.600000 Expected Cost: 55.181738\n"
     ]
    },
    {
     "name": "stderr",
     "output_type": "stream",
     "text": [
      "INFO:XIPTrainer:Building pipeline for classifier rf\n"
     ]
    },
    {
     "name": "stdout",
     "output_type": "stream",
     "text": [
      "Cutoff: 0.500000 Threshold: 0.600000 Expected Cost: 66.431788\n"
     ]
    },
    {
     "name": "stderr",
     "output_type": "stream",
     "text": [
      "INFO:XIPTrainer:Building pipeline for classifier rf\n"
     ]
    },
    {
     "name": "stdout",
     "output_type": "stream",
     "text": [
      "Cutoff: 0.600000 Threshold: 0.600000 Expected Cost: 86.926155\n"
     ]
    },
    {
     "name": "stderr",
     "output_type": "stream",
     "text": [
      "INFO:XIPTrainer:Building pipeline for classifier rf\n"
     ]
    },
    {
     "name": "stdout",
     "output_type": "stream",
     "text": [
      "Cascades dict contents: {'feature_importances': {'feature0': 0.12212522611245485, 'feature1': 0.12472961218301683, 'feature2': 0.08915049867413652, 'feature3': 0.11487543741831402, 'feature4': 0.1115085369164541, 'feature5': 0.10750839957349329, 'feature6': 0.11157318768913374, 'feature7': 0.10730772075452008, 'feature8': 0.00493821309806094, 'feature9': 0.01152203906336185, 'feature10': 0.04039998177583344, 'feature11': 0.018660275205153527, 'feature12': 0.035700871536066804}, 'selected_feature_indices': [1], 'cascade_threshold': 0.6, 'full_model': XIPClassifier(bootstrap=True, ccp_alpha=0.0, class_weight=None,\n",
      "              criterion='gini', max_depth=None, max_features='sqrt',\n",
      "              max_leaf_nodes=None, max_samples=None, min_impurity_decrease=0.0,\n",
      "              min_samples_leaf=1, min_samples_split=2,\n",
      "              min_weight_fraction_leaf=0.0, n_estimators=100, n_jobs=None,\n",
      "              oob_score=False, random_state=0, verbose=0, warm_start=False), 'approximate_model': XIPClassifier(bootstrap=True, ccp_alpha=0.0, class_weight=None,\n",
      "              criterion='gini', max_depth=None, max_features='sqrt',\n",
      "              max_leaf_nodes=None, max_samples=None, min_impurity_decrease=0.0,\n",
      "              min_samples_leaf=1, min_samples_split=2,\n",
      "              min_weight_fraction_leaf=0.0, n_estimators=100, n_jobs=None,\n",
      "              oob_score=False, random_state=0, verbose=0, warm_start=False)}\n"
     ]
    }
   ],
   "source": [
    "\n",
    "tdfraud_train_pipeline(train_set[fnames], train_set[label_name].to_numpy())\n",
    "willump_model = tdfraud_train_pipeline(train_set[fnames], train_set[label_name].to_numpy())\n",
    "print(\"Cascades dict contents:\", cascades_dict)\n"
   ]
  },
  {
   "cell_type": "markdown",
   "metadata": {},
   "source": [
    "## Evaluation"
   ]
  },
  {
   "cell_type": "code",
   "execution_count": 8,
   "metadata": {},
   "outputs": [],
   "source": [
    "\n",
    "result_dict = {\"baseline\": {}, \"willump\": {}, \"preparation_rescale\": preparation_rescale}"
   ]
  },
  {
   "cell_type": "markdown",
   "metadata": {},
   "source": [
    "### Baseline (Specific)"
   ]
  },
  {
   "cell_type": "code",
   "execution_count": 9,
   "metadata": {},
   "outputs": [
    {
     "name": "stdout",
     "output_type": "stream",
     "text": [
      "Elapsed Time 10.674202s\n",
      "Throughput: 44.125079\n",
      "Accuracy: 0.953291\n"
     ]
    }
   ],
   "source": [
    "\n",
    "## baseline\n",
    "def tdfraud_eval_pipeline(input_x, model):\n",
    "  feature0 = pseudo_transform_function0(input_x)\n",
    "  feature1 = pseudo_transform_function1(input_x)\n",
    "  feature2 = pseudo_transform_function2(input_x)\n",
    "  feature3 = pseudo_transform_function3(input_x)\n",
    "  feature4 = pseudo_transform_function4(input_x)\n",
    "  feature5 = pseudo_transform_function5(input_x)\n",
    "  feature6 = pseudo_transform_function6(input_x)\n",
    "  feature7 = pseudo_transform_function7(input_x)\n",
    "  feature8 = pseudo_transform_function8(input_x)\n",
    "  feature9 = pseudo_transform_function9(input_x)\n",
    "  feature10 = pseudo_transform_function10(input_x)\n",
    "  feature11 = pseudo_transform_function11(input_x)\n",
    "  feature12 = pseudo_transform_function12(input_x)\n",
    "  return tdfraud_predict(model, [feature0, feature1, feature2, feature3, feature4, feature5, feature6, feature7, feature8, feature9, feature10, feature11, feature12])\n",
    "\n",
    "unopt_time_elapsed_total = 0\n",
    "result_dict[\"baseline\"][\"latency\"] = []\n",
    "baseline_preds = np.zeros(num_rows)\n",
    "\n",
    "for i in range(num_rows):\n",
    "  entry = test_set.iloc[i:i+1]\n",
    "  time_start = time.time()\n",
    "  preds = tdfraud_eval_pipeline(entry, willump_model)\n",
    "  time_elapsed = time.time() - time_start\n",
    "  result_dict[\"baseline\"][\"latency\"].append(time_elapsed)\n",
    "  baseline_preds[i] = int(preds[0])\n",
    "  unopt_time_elapsed_total += time_elapsed\n",
    "baseline_throughput = num_rows / unopt_time_elapsed_total\n",
    "baseline_accuracy = accuracy_score(test_set[label_name], baseline_preds)\n",
    "baseline_precision = precision_score(test_set[label_name], baseline_preds)\n",
    "baseline_recall = recall_score(test_set[label_name], baseline_preds)\n",
    "baseline_f1 = f1_score(test_set[label_name], baseline_preds)\n",
    "baseline_roc = roc_auc_score(test_set[label_name], baseline_preds)\n",
    "\n",
    "\n",
    "print(\"Elapsed Time %fs\" % unopt_time_elapsed_total)\n",
    "print(\"Throughput: %f\" % baseline_throughput)\n",
    "print(\"Accuracy: %f\" % baseline_accuracy)\n",
    "\n",
    "result_dict[\"baseline\"][\"throughput\"] = baseline_throughput\n",
    "result_dict[\"baseline\"][\"accuracy\"] = baseline_accuracy\n",
    "result_dict[\"baseline\"][\"precision\"] = baseline_precision\n",
    "result_dict[\"baseline\"][\"recall\"] = baseline_recall\n",
    "result_dict[\"baseline\"][\"f1\"] = baseline_f1\n",
    "result_dict[\"baseline\"][\"roc\"] = baseline_roc\n"
   ]
  },
  {
   "cell_type": "markdown",
   "metadata": {},
   "source": [
    "### Willump (Specific)"
   ]
  },
  {
   "cell_type": "code",
   "execution_count": 10,
   "metadata": {},
   "outputs": [
    {
     "name": "stdout",
     "output_type": "stream",
     "text": [
      "Elapsed Time 7.158757s\n",
      "Throughput: 65.793545\n",
      "Accuracy: 0.953291\n"
     ]
    }
   ],
   "source": [
    "\n",
    "## Willump cascade\n",
    "@willump_execute(\n",
    "  predict_function=tdfraud_predict,\n",
    "  confidence_function=tdfraud_confidence,\n",
    "  predict_cascades_params=cascades_dict,\n",
    ")\n",
    "def tdfraud_eval_pipeline_cascades(input_x, model):\n",
    "  feature0 = pseudo_transform_function0(input_x)\n",
    "  feature1 = pseudo_transform_function1(input_x)\n",
    "  feature2 = pseudo_transform_function2(input_x)\n",
    "  feature3 = pseudo_transform_function3(input_x)\n",
    "  feature4 = pseudo_transform_function4(input_x)\n",
    "  feature5 = pseudo_transform_function5(input_x)\n",
    "  feature6 = pseudo_transform_function6(input_x)\n",
    "  feature7 = pseudo_transform_function7(input_x)\n",
    "  feature8 = pseudo_transform_function8(input_x)\n",
    "  feature9 = pseudo_transform_function9(input_x)\n",
    "  feature10 = pseudo_transform_function10(input_x)\n",
    "  feature11 = pseudo_transform_function11(input_x)\n",
    "  feature12 = pseudo_transform_function12(input_x)\n",
    "  return tdfraud_predict(model, [feature0, feature1, feature2, feature3, feature4, feature5, feature6, feature7, feature8, feature9, feature10, feature11, feature12])\n",
    "\n",
    "# tdfraud_eval_pipeline_cascades(test_set[:100], willump_model) # Warm-up?\n",
    "# tdfraud_eval_pipeline_cascades(test_set[:100], willump_model)\n",
    "\n",
    "cascades_time_elapsed_total = 0\n",
    "result_dict[\"willump\"][\"latency\"] = []\n",
    "result_dict[\"willump\"][\"approx_conf\"] = []\n",
    "approximate_model = cascades_dict[\"approximate_model\"]\n",
    "selected_feature_indices = cascades_dict[\"selected_feature_indices\"]\n",
    "willump_preds = np.zeros(num_rows)\n",
    "\n",
    "for i in range(num_rows):\n",
    "  entry = test_set.iloc[i:i+1]\n",
    "  time_start = time.time()\n",
    "  preds = tdfraud_eval_pipeline_cascades(entry, willump_model)\n",
    "  time_elapsed = time.time() - time_start\n",
    "  result_dict[\"willump\"][\"latency\"].append(time_elapsed)\n",
    "  willump_preds[i] = int(preds[0])\n",
    "\n",
    "  transform_template = 'pseudo_transform_function{}(entry)'\n",
    "  feats = [eval(transform_template.format(i)) for i in selected_feature_indices]\n",
    "  transformed_entry = np.hstack(feats)\n",
    "  approx_conf = approximate_model.predict_proba(transformed_entry)\n",
    "  result_dict[\"willump\"][\"approx_conf\"].append(float(approx_conf[0, 1]))\n",
    "  cascades_time_elapsed_total += time_elapsed\n",
    "\n",
    "willump_throughput = num_rows / cascades_time_elapsed_total\n",
    "willump_accuracy = accuracy_score(test_set[label_name], willump_preds)\n",
    "willump_precision = precision_score(test_set[label_name], willump_preds)\n",
    "willump_recall = recall_score(test_set[label_name], willump_preds)\n",
    "willump_f1 = f1_score(test_set[label_name], willump_preds)\n",
    "willump_roc = roc_auc_score(test_set[label_name], willump_preds)\n",
    "if (baseline_preds == 1).all():\n",
    "  baseline_preds[0] = 0\n",
    "relative_accuracy = accuracy_score(baseline_preds, willump_preds)\n",
    "relative_precision = precision_score(baseline_preds, willump_preds)\n",
    "relative_recall = recall_score(baseline_preds, willump_preds)\n",
    "relative_f1 = f1_score(baseline_preds, willump_preds)\n",
    "relative_roc = roc_auc_score(baseline_preds, willump_preds)\n",
    "\n",
    "print(\"Elapsed Time %fs\" % cascades_time_elapsed_total)\n",
    "print(\"Throughput: %f\" % willump_throughput)\n",
    "print(\"Accuracy: %f\" % willump_accuracy)\n",
    "\n",
    "result_dict[\"willump\"][\"throughput\"] = willump_throughput\n",
    "result_dict[\"willump\"][\"accuracy\"] = willump_accuracy\n",
    "result_dict[\"willump\"][\"precision\"] = willump_precision\n",
    "result_dict[\"willump\"][\"recall\"] = willump_recall\n",
    "result_dict[\"willump\"][\"f1\"] = willump_f1\n",
    "result_dict[\"willump\"][\"roc\"] = willump_roc\n",
    "result_dict[\"willump\"][\"relative_accuracy\"] = relative_accuracy\n",
    "result_dict[\"willump\"][\"relative_precision\"] = relative_precision\n",
    "result_dict[\"willump\"][\"relative_recall\"] = relative_recall\n",
    "result_dict[\"willump\"][\"relative_f1\"] = relative_f1\n",
    "result_dict[\"willump\"][\"relative_roc\"] = relative_roc\n",
    "result_dict[\"willump\"][\"cascades\"] = {}\n",
    "result_dict[\"willump\"][\"cascades\"][\"selected_feature_indices\"] = cascades_dict[\"selected_feature_indices\"]\n",
    "result_dict[\"willump\"][\"cascades\"][\"cascade_threshold\"] = cascades_dict[\"cascade_threshold\"]\n"
   ]
  },
  {
   "cell_type": "markdown",
   "metadata": {},
   "source": [
    "### Saving Result"
   ]
  },
  {
   "cell_type": "code",
   "execution_count": 11,
   "metadata": {},
   "outputs": [
    {
     "data": {
      "image/png": "[encoded data removed]",
      "text/plain": [
       "<Figure size 600x400 with 1 Axes>"
      ]
     },
     "metadata": {},
     "output_type": "display_data"
    }
   ],
   "source": [
    "\n",
    "with open(osp.join(working_dir, \"model\", f\"{task_name}_{model_name}.json\"), \"w\") as f:\n",
    "  json_string = json.dumps(result_dict, indent=4)\n",
    "  f.write(json_string)\n",
    "\n",
    "\n",
    "plt.rcParams['axes.labelsize'] = 16\n",
    "plt.rcParams['xtick.labelsize'] = 16\n",
    "plt.rcParams['ytick.labelsize'] = 16\n",
    "fig, axes = plt.subplots(figsize=(6, 4), ncols=1, nrows=1,\n",
    "                         sharex=False, sharey=False)\n",
    "x = np.arange(2)\n",
    "width = 0.5  # the width of the bars\n",
    "\n",
    "bars = axes.bar(x, [num_rows / unopt_time_elapsed_total, num_rows / cascades_time_elapsed_total], width)\n",
    "axes.set(xlabel='', ylabel='Throughput (rows/sec)')\n",
    "axes.set_xticks(x)\n",
    "axes.set_xticklabels([\"Unoptimized\", \"Cascades\"])\n",
    "plt.savefig(f'{task_name}_{model_name}.jpg')\n"
   ]
  }
 ],
 "metadata": {
  "kernelspec": {
   "display_name": "apx",
   "language": "python",
   "name": "python3"
  },
  "language_info": {
   "codemirror_mode": {
    "name": "ipython",
    "version": 3
   },
   "file_extension": ".py",
   "mimetype": "text/x-python",
   "name": "python",
   "nbconvert_exporter": "python",
   "pygments_lexer": "ipython3",
   "version": "3.10.6"
  }
 },
 "nbformat": 4,
 "nbformat_minor": 2
}
